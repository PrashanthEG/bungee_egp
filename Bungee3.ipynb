{
  "nbformat": 4,
  "nbformat_minor": 0,
  "metadata": {
    "colab": {
      "name": "Bungee3.ipynb",
      "provenance": []
    },
    "kernelspec": {
      "name": "python3",
      "display_name": "Python 3"
    },
    "language_info": {
      "name": "python"
    }
  },
  "cells": [
    {
      "cell_type": "code",
      "metadata": {
        "id": "jmjaMLlIsjdA"
      },
      "source": [
        "import pandas as pd\n",
        "import numpy as np\n",
        "team= pd.read_csv('/content/main.csv')\n",
        "country= team[['Team', 'Yellow Cards', 'Red Cards']]\n",
        "country.sort_values(by=['Red Cards','Yellow Cards'],ascending=False)"
      ],
      "execution_count": null,
      "outputs": []
    }
  ]
}